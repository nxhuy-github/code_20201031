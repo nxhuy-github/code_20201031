{
 "cells": [
  {
   "cell_type": "code",
   "execution_count": 1,
   "metadata": {},
   "outputs": [],
   "source": [
    "import tensorflow as tf"
   ]
  },
  {
   "cell_type": "code",
   "execution_count": 8,
   "metadata": {},
   "outputs": [
    {
     "data": {
      "text/plain": [
       "<tf.Tensor: shape=(10, 10), dtype=float32, numpy=\n",
       "array([[0., 0., 0., 0., 0., 0., 0., 0., 0., 0.],\n",
       "       [0., 0., 0., 0., 0., 0., 0., 0., 0., 0.],\n",
       "       [0., 0., 0., 0., 0., 0., 0., 0., 0., 0.],\n",
       "       [0., 0., 0., 0., 0., 0., 0., 0., 0., 0.],\n",
       "       [0., 0., 0., 0., 0., 0., 0., 0., 0., 0.],\n",
       "       [0., 0., 0., 0., 0., 0., 0., 0., 0., 0.],\n",
       "       [0., 0., 0., 0., 0., 0., 0., 0., 0., 0.],\n",
       "       [0., 0., 0., 0., 0., 0., 0., 0., 0., 0.],\n",
       "       [0., 0., 0., 0., 0., 0., 0., 0., 0., 0.],\n",
       "       [0., 0., 0., 0., 0., 0., 0., 0., 0., 0.]], dtype=float32)>"
      ]
     },
     "execution_count": 8,
     "metadata": {},
     "output_type": "execute_result"
    }
   ],
   "source": [
    "layer = tf.keras.layers.Dense(10, input_shape=(None, 5))\n",
    "\n",
    "layer(tf.zeros([10, 5]))"
   ]
  },
  {
   "cell_type": "code",
   "execution_count": 9,
   "metadata": {
    "scrolled": true
   },
   "outputs": [
    {
     "name": "stdout",
     "output_type": "stream",
     "text": [
      "[<tf.Variable 'dense_3/kernel:0' shape=(5, 10) dtype=float32, numpy=\n",
      "array([[ 0.580509  ,  0.10680091,  0.40022153, -0.5309654 , -0.29894567,\n",
      "         0.23516273,  0.22106683, -0.45090947,  0.4494961 ,  0.531576  ],\n",
      "       [ 0.40484446, -0.05868608,  0.1180557 , -0.30863056,  0.08916843,\n",
      "        -0.20249596,  0.559524  ,  0.14689142, -0.47402304,  0.12226468],\n",
      "       [-0.28474963,  0.2379083 , -0.5605786 , -0.36421144,  0.13568568,\n",
      "         0.0782454 ,  0.11518693, -0.58305955,  0.21440226, -0.41624773],\n",
      "       [-0.34198812, -0.21451926, -0.61825377,  0.56118137,  0.04873943,\n",
      "         0.00723064,  0.25954175,  0.00711757, -0.31319946,  0.44594508],\n",
      "       [-0.32208428,  0.02578253,  0.12774885,  0.42982715, -0.14622793,\n",
      "         0.30597305,  0.34208888, -0.07750034, -0.58661485,  0.06908888]],\n",
      "      dtype=float32)>, <tf.Variable 'dense_3/bias:0' shape=(10,) dtype=float32, numpy=array([0., 0., 0., 0., 0., 0., 0., 0., 0., 0.], dtype=float32)>]\n",
      "<tf.Variable 'dense_3/kernel:0' shape=(5, 10) dtype=float32, numpy=\n",
      "array([[ 0.580509  ,  0.10680091,  0.40022153, -0.5309654 , -0.29894567,\n",
      "         0.23516273,  0.22106683, -0.45090947,  0.4494961 ,  0.531576  ],\n",
      "       [ 0.40484446, -0.05868608,  0.1180557 , -0.30863056,  0.08916843,\n",
      "        -0.20249596,  0.559524  ,  0.14689142, -0.47402304,  0.12226468],\n",
      "       [-0.28474963,  0.2379083 , -0.5605786 , -0.36421144,  0.13568568,\n",
      "         0.0782454 ,  0.11518693, -0.58305955,  0.21440226, -0.41624773],\n",
      "       [-0.34198812, -0.21451926, -0.61825377,  0.56118137,  0.04873943,\n",
      "         0.00723064,  0.25954175,  0.00711757, -0.31319946,  0.44594508],\n",
      "       [-0.32208428,  0.02578253,  0.12774885,  0.42982715, -0.14622793,\n",
      "         0.30597305,  0.34208888, -0.07750034, -0.58661485,  0.06908888]],\n",
      "      dtype=float32)>\n",
      "<tf.Variable 'dense_3/bias:0' shape=(10,) dtype=float32, numpy=array([0., 0., 0., 0., 0., 0., 0., 0., 0., 0.], dtype=float32)>\n"
     ]
    }
   ],
   "source": [
    "print(layer.variables)\n",
    "print(layer.kernel)\n",
    "print(layer.bias)"
   ]
  },
  {
   "cell_type": "markdown",
   "metadata": {},
   "source": [
    "### Custom Layer"
   ]
  },
  {
   "cell_type": "code",
   "execution_count": 10,
   "metadata": {},
   "outputs": [],
   "source": [
    "class Linear(tf.keras.layers.Layer):\n",
    "    def __init__(self, units=32, input_dim=32):\n",
    "        super(Linear, self).__init__()\n",
    "        \n",
    "        w_init = tf.random_normal_initializer()\n",
    "        self.w = tf.Variable(initial_value=w_init(shape=(input_dim, units),\n",
    "                                                 dtype='float32'),\n",
    "                            trainable=True)\n",
    "        \n",
    "        b_init = tf.zeros_initializer()\n",
    "        self.b = tf.Variable(initial_value=b_init(shape=(units,),\n",
    "                                                 dtype='float32'),\n",
    "                            trainable=True)\n",
    "        \n",
    "    def call(self, inputs):\n",
    "        return tf.matmul(inputs, self.w) + self.b"
   ]
  },
  {
   "cell_type": "code",
   "execution_count": 12,
   "metadata": {},
   "outputs": [
    {
     "name": "stdout",
     "output_type": "stream",
     "text": [
      "x: [[1. 1.]\n",
      " [1. 1.]]\n",
      "y: [[ 0.06697868 -0.01135617  0.0569241   0.03401322]\n",
      " [ 0.06697868 -0.01135617  0.0569241   0.03401322]]\n"
     ]
    }
   ],
   "source": [
    "x = tf.ones((2, 2))\n",
    "print(f'x: {x}')\n",
    "\n",
    "linear = Linear(4, 2)\n",
    "y = linear(inputs)\n",
    "print(f'y: {y}')"
   ]
  },
  {
   "cell_type": "code",
   "execution_count": 17,
   "metadata": {},
   "outputs": [],
   "source": [
    "assert linear.weights == [linear.w, linear.b]"
   ]
  },
  {
   "cell_type": "markdown",
   "metadata": {},
   "source": [
    "### Custom Layer with self.add_weight()"
   ]
  },
  {
   "cell_type": "code",
   "execution_count": 18,
   "metadata": {},
   "outputs": [],
   "source": [
    "class Linear(tf.keras.layers.Layer):\n",
    "    def __init__(self, units=32, input_dim=32):\n",
    "        super(Linear, self).__init__()\n",
    "        self.w = self.add_weight(shape=(input_dim, units),\n",
    "                                initializer='random_normal',\n",
    "                                trainable=True)\n",
    "        self.b = self.add_weight(shape=(units,),\n",
    "                                initializer='zeros',\n",
    "                                trainable=True)\n",
    "    \n",
    "    def call(self, x):\n",
    "        return tf.matmul(x, self.w) + self.b"
   ]
  },
  {
   "cell_type": "code",
   "execution_count": 19,
   "metadata": {},
   "outputs": [
    {
     "name": "stdout",
     "output_type": "stream",
     "text": [
      "x: [[1. 1.]\n",
      " [1. 1.]]\n",
      "y: [[-0.01044869 -0.02761954  0.09738257 -0.06461011]\n",
      " [-0.01044869 -0.02761954  0.09738257 -0.06461011]]\n"
     ]
    }
   ],
   "source": [
    "x = tf.ones((2, 2))\n",
    "print(f'x: {x}')\n",
    "\n",
    "linear = Linear(4, 2)\n",
    "y = linear(inputs)\n",
    "print(f'y: {y}')"
   ]
  },
  {
   "cell_type": "markdown",
   "metadata": {},
   "source": [
    "### Custom Layer with build()"
   ]
  },
  {
   "cell_type": "code",
   "execution_count": 25,
   "metadata": {},
   "outputs": [],
   "source": [
    "# In many cases, you may not know in advance the size of your inputs, and \n",
    "# you would like to lazily create weights when that value becomes known, \n",
    "# some time after instantiating the layer.\n",
    "class Linear(tf.keras.layers.Layer):\n",
    "    def __init__(self, units=32):\n",
    "        super(Linear, self).__init__()\n",
    "        self.units = units\n",
    "        \n",
    "    def build(self, input_shape):\n",
    "        self.w = self.add_weight(shape=(input_shape[-1], self.units),\n",
    "                                initializer='random_normal',\n",
    "                                trainable=True)\n",
    "        self.b = self.add_weight(shape=(self.units,),\n",
    "                                initializer='zeros',\n",
    "                                trainable=True)\n",
    "        \n",
    "    def call(self, x):\n",
    "        return tf.matmul(x, self.w) + self.b"
   ]
  },
  {
   "cell_type": "code",
   "execution_count": 26,
   "metadata": {},
   "outputs": [
    {
     "name": "stdout",
     "output_type": "stream",
     "text": [
      "x: [[1. 1.]\n",
      " [1. 1.]]\n",
      "y: [[-0.00039262 -0.04449359  0.04367013  0.09235971]\n",
      " [-0.00039262 -0.04449359  0.04367013  0.09235971]]\n"
     ]
    }
   ],
   "source": [
    "x = tf.ones((2, 2))\n",
    "print(f'x: {x}')\n",
    "\n",
    "linear = Linear(4)\n",
    "y = linear(inputs)\n",
    "print(f'y: {y}')"
   ]
  },
  {
   "cell_type": "code",
   "execution_count": null,
   "metadata": {},
   "outputs": [],
   "source": []
  }
 ],
 "metadata": {
  "kernelspec": {
   "display_name": "Python 3",
   "language": "python",
   "name": "python3"
  },
  "language_info": {
   "codemirror_mode": {
    "name": "ipython",
    "version": 3
   },
   "file_extension": ".py",
   "mimetype": "text/x-python",
   "name": "python",
   "nbconvert_exporter": "python",
   "pygments_lexer": "ipython3",
   "version": "3.6.9"
  }
 },
 "nbformat": 4,
 "nbformat_minor": 4
}
