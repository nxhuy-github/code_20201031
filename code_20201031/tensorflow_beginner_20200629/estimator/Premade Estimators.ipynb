{
 "cells": [
  {
   "cell_type": "markdown",
   "metadata": {},
   "source": [
    "## First definition\n",
    "\n",
    "An `Estimator` is Tensorflow's high-level **representation of a complete model**, and it has been designed for easy scaling an asynchronous training."
   ]
  },
  {
   "cell_type": "markdown",
   "metadata": {},
   "source": [
    "## First things first"
   ]
  },
  {
   "cell_type": "code",
   "execution_count": 1,
   "metadata": {},
   "outputs": [],
   "source": [
    "import tensorflow as tf\n",
    "import pandas as pd"
   ]
  },
  {
   "cell_type": "markdown",
   "metadata": {},
   "source": [
    "### The data set\n",
    "\n",
    "The sample program in this notebook builds and tests a model that classifies **Iris flowers** into three different species based on the size of their sepals and petals."
   ]
  },
  {
   "cell_type": "code",
   "execution_count": 2,
   "metadata": {},
   "outputs": [],
   "source": [
    "CSV_COLUMN_NAMES = ['SepalLength', 'SepalWidth', 'PetalLength', 'PetalWidth', 'Species']\n",
    "SPECIES = ['Setosa', 'Versicolor', 'Virginica']"
   ]
  },
  {
   "cell_type": "code",
   "execution_count": 3,
   "metadata": {},
   "outputs": [
    {
     "name": "stdout",
     "output_type": "stream",
     "text": [
      "Downloading data from https://storage.googleapis.com/download.tensorflow.org/data/iris_training.csv\n",
      "8192/2194 [================================================================================================================] - 0s 0us/step\n",
      "Downloading data from https://storage.googleapis.com/download.tensorflow.org/data/iris_test.csv\n",
      "8192/573 [============================================================================================================================================================================================================================================================================================================================================================================================================================================] - 0s 0us/step\n"
     ]
    },
    {
     "data": {
      "text/plain": [
       "('/home/nxhuy/.keras/datasets/iris_training.csv',\n",
       " '/home/nxhuy/.keras/datasets/iris_test.csv')"
      ]
     },
     "execution_count": 3,
     "metadata": {},
     "output_type": "execute_result"
    }
   ],
   "source": [
    "train_path = tf.keras.utils.get_file(\n",
    "    \"iris_training.csv\", \"https://storage.googleapis.com/download.tensorflow.org/data/iris_training.csv\")\n",
    "test_path = tf.keras.utils.get_file(\n",
    "    \"iris_test.csv\", \"https://storage.googleapis.com/download.tensorflow.org/data/iris_test.csv\")\n",
    "\n",
    "train_path, test_path"
   ]
  },
  {
   "cell_type": "code",
   "execution_count": 4,
   "metadata": {},
   "outputs": [
    {
     "data": {
      "text/plain": [
       "((120, 5), (30, 5))"
      ]
     },
     "execution_count": 4,
     "metadata": {},
     "output_type": "execute_result"
    }
   ],
   "source": [
    "train = pd.read_csv(train_path, names=CSV_COLUMN_NAMES, header=0)\n",
    "test  = pd.read_csv(test_path, names=CSV_COLUMN_NAMES, header=0)\n",
    "\n",
    "train.shape, test.shape"
   ]
  },
  {
   "cell_type": "code",
   "execution_count": 5,
   "metadata": {},
   "outputs": [
    {
     "data": {
      "text/html": [
       "<div>\n",
       "<style scoped>\n",
       "    .dataframe tbody tr th:only-of-type {\n",
       "        vertical-align: middle;\n",
       "    }\n",
       "\n",
       "    .dataframe tbody tr th {\n",
       "        vertical-align: top;\n",
       "    }\n",
       "\n",
       "    .dataframe thead th {\n",
       "        text-align: right;\n",
       "    }\n",
       "</style>\n",
       "<table border=\"1\" class=\"dataframe\">\n",
       "  <thead>\n",
       "    <tr style=\"text-align: right;\">\n",
       "      <th></th>\n",
       "      <th>SepalLength</th>\n",
       "      <th>SepalWidth</th>\n",
       "      <th>PetalLength</th>\n",
       "      <th>PetalWidth</th>\n",
       "      <th>Species</th>\n",
       "    </tr>\n",
       "  </thead>\n",
       "  <tbody>\n",
       "    <tr>\n",
       "      <th>0</th>\n",
       "      <td>6.4</td>\n",
       "      <td>2.8</td>\n",
       "      <td>5.6</td>\n",
       "      <td>2.2</td>\n",
       "      <td>2</td>\n",
       "    </tr>\n",
       "    <tr>\n",
       "      <th>1</th>\n",
       "      <td>5.0</td>\n",
       "      <td>2.3</td>\n",
       "      <td>3.3</td>\n",
       "      <td>1.0</td>\n",
       "      <td>1</td>\n",
       "    </tr>\n",
       "    <tr>\n",
       "      <th>2</th>\n",
       "      <td>4.9</td>\n",
       "      <td>2.5</td>\n",
       "      <td>4.5</td>\n",
       "      <td>1.7</td>\n",
       "      <td>2</td>\n",
       "    </tr>\n",
       "    <tr>\n",
       "      <th>3</th>\n",
       "      <td>4.9</td>\n",
       "      <td>3.1</td>\n",
       "      <td>1.5</td>\n",
       "      <td>0.1</td>\n",
       "      <td>0</td>\n",
       "    </tr>\n",
       "    <tr>\n",
       "      <th>4</th>\n",
       "      <td>5.7</td>\n",
       "      <td>3.8</td>\n",
       "      <td>1.7</td>\n",
       "      <td>0.3</td>\n",
       "      <td>0</td>\n",
       "    </tr>\n",
       "  </tbody>\n",
       "</table>\n",
       "</div>"
      ],
      "text/plain": [
       "   SepalLength  SepalWidth  PetalLength  PetalWidth  Species\n",
       "0          6.4         2.8          5.6         2.2        2\n",
       "1          5.0         2.3          3.3         1.0        1\n",
       "2          4.9         2.5          4.5         1.7        2\n",
       "3          4.9         3.1          1.5         0.1        0\n",
       "4          5.7         3.8          1.7         0.3        0"
      ]
     },
     "execution_count": 5,
     "metadata": {},
     "output_type": "execute_result"
    }
   ],
   "source": [
    "train.head()"
   ]
  },
  {
   "cell_type": "code",
   "execution_count": 6,
   "metadata": {},
   "outputs": [
    {
     "data": {
      "text/plain": [
       "((120,), (30,))"
      ]
     },
     "execution_count": 6,
     "metadata": {},
     "output_type": "execute_result"
    }
   ],
   "source": [
    "train_y = train.pop('Species')\n",
    "test_y  = test.pop('Species')\n",
    "\n",
    "train_y.shape, test_y.shape"
   ]
  },
  {
   "cell_type": "markdown",
   "metadata": {},
   "source": [
    "## Overview of programming with Estimators\n",
    "\n",
    "An `Estimator` is any class derived from `tf.estimator.Estimator`. Tensorflow provides a collection of `tf.estimator` to implement common ML algorithms. Beyond that, we can write our own custom Estimators. We'll use **pre-made** Estimators when just getting started.\n",
    "\n",
    "To write a Tensorflow program based on pre-made Estimators, we must perform the following tasks:\n",
    "- create one or more input functions\n",
    "- define model's feature columns\n",
    "- instantiate an Estimator, specifying the feature columns and various hyperparameters\n",
    "- call one or more methods on the Estimator object, passing the appropriate input functions as the source of the data"
   ]
  },
  {
   "cell_type": "markdown",
   "metadata": {},
   "source": [
    "## Create input functions\n",
    "\n",
    "An **input function** is a function that returns a `tf.data.Dataset` object:\n",
    "- `features`: a Python dictionary\n",
    "    - each key is the name of feature\n",
    "    - each value is an array containing all of that feature's values\n",
    "- `label`: a array containing the values of the label for every example"
   ]
  },
  {
   "cell_type": "code",
   "execution_count": 7,
   "metadata": {},
   "outputs": [
    {
     "data": {
      "text/plain": [
       "({'SepalLength': array([6.4, 5. ]),\n",
       "  'SepalWidth': array([2.8, 2.3]),\n",
       "  'PetalLength': array([5.6, 3.3]),\n",
       "  'PetalWidth': array([2.2, 1. ])},\n",
       " array([2, 1]))"
      ]
     },
     "execution_count": 7,
     "metadata": {},
     "output_type": "execute_result"
    }
   ],
   "source": [
    "# Just to demonstrate\n",
    "def input_evaluation_set():\n",
    "    features = {\n",
    "        'SepalLength': np.array([6.4, 5.0]),\n",
    "        'SepalWidth':  np.array([2.8, 2.3]),\n",
    "        'PetalLength': np.array([5.6, 3.3]),\n",
    "        'PetalWidth':  np.array([2.2, 1.0])\n",
    "    }\n",
    "    labels = np.array([2, 1])\n",
    "    return features, labels\n",
    "\n",
    "input_evaluation_set()"
   ]
  },
  {
   "cell_type": "markdown",
   "metadata": {},
   "source": [
    "Our input function may generate the `features` dictionary and `label` list any way we want. But using Tensorflow's [Dataset API](https://www.tensorflow.org/guide/data) is a recommandation, which can parse all sorts of data."
   ]
  },
  {
   "cell_type": "code",
   "execution_count": 8,
   "metadata": {},
   "outputs": [],
   "source": [
    "def input_fn(features, labels, training=True, batch_size=256):\n",
    "    # Convert the inputs to Dataset\n",
    "    dataset = tf.data.Dataset.from_tensor_slices(\n",
    "        (dict(features), labels)\n",
    "    )\n",
    "    # Shuffle and repeat if we are in training mode\n",
    "    if training:\n",
    "        dataset = dataset.shuffle(1000).repeat()\n",
    "    \n",
    "    return dataset.batch(batch_size)"
   ]
  },
  {
   "cell_type": "markdown",
   "metadata": {},
   "source": [
    "## Define the feature columns\n",
    "\n",
    "A **feature column** is an object describing how the model should use the raw input data from the features dictionary. When we build an `Estimator` model, we pass it a list of feature columns that describes each of features we want the model to use. The `tf.feature_column` module provides many options for representing data to the model."
   ]
  },
  {
   "cell_type": "code",
   "execution_count": 10,
   "metadata": {},
   "outputs": [
    {
     "data": {
      "text/plain": [
       "[NumericColumn(key='SepalLength', shape=(1,), default_value=None, dtype=tf.float32, normalizer_fn=None),\n",
       " NumericColumn(key='SepalWidth', shape=(1,), default_value=None, dtype=tf.float32, normalizer_fn=None),\n",
       " NumericColumn(key='PetalLength', shape=(1,), default_value=None, dtype=tf.float32, normalizer_fn=None),\n",
       " NumericColumn(key='PetalWidth', shape=(1,), default_value=None, dtype=tf.float32, normalizer_fn=None)]"
      ]
     },
     "execution_count": 10,
     "metadata": {},
     "output_type": "execute_result"
    }
   ],
   "source": [
    "my_feature_columns = []\n",
    "for key in train.keys():\n",
    "    my_feature_columns.append(tf.feature_column.numeric_column(key=key))\n",
    "\n",
    "my_feature_columns"
   ]
  },
  {
   "cell_type": "markdown",
   "metadata": {},
   "source": [
    "## Instantiate an estimator\n",
    "\n",
    "For the Iris problem, `tf.estimator.DNNClassifier` seems like the best choice. Here's how we instantiated this Estimator:"
   ]
  },
  {
   "cell_type": "code",
   "execution_count": 11,
   "metadata": {},
   "outputs": [
    {
     "name": "stdout",
     "output_type": "stream",
     "text": [
      "INFO:tensorflow:Using default config.\n",
      "WARNING:tensorflow:Using temporary folder as model directory: /tmp/tmpa5bm98jn\n",
      "INFO:tensorflow:Using config: {'_model_dir': '/tmp/tmpa5bm98jn', '_tf_random_seed': None, '_save_summary_steps': 100, '_save_checkpoints_steps': None, '_save_checkpoints_secs': 600, '_session_config': allow_soft_placement: true\n",
      "graph_options {\n",
      "  rewrite_options {\n",
      "    meta_optimizer_iterations: ONE\n",
      "  }\n",
      "}\n",
      ", '_keep_checkpoint_max': 5, '_keep_checkpoint_every_n_hours': 10000, '_log_step_count_steps': 100, '_train_distribute': None, '_device_fn': None, '_protocol': None, '_eval_distribute': None, '_experimental_distribute': None, '_experimental_max_worker_delay_secs': None, '_session_creation_timeout_secs': 7200, '_service': None, '_cluster_spec': ClusterSpec({}), '_task_type': 'worker', '_task_id': 0, '_global_id_in_cluster': 0, '_master': '', '_evaluation_master': '', '_is_chief': True, '_num_ps_replicas': 0, '_num_worker_replicas': 1}\n"
     ]
    }
   ],
   "source": [
    "# Build a DNN with 2 hidden layers with 30 and 10 hidden nodes each.\n",
    "classifier = tf.estimator.DNNClassifier(\n",
    "    feature_columns=my_feature_columns,\n",
    "    hidden_units=[30, 10],\n",
    "    n_classes=3\n",
    ")"
   ]
  },
  {
   "cell_type": "markdown",
   "metadata": {},
   "source": [
    "## Train, Evaluate and Predict"
   ]
  },
  {
   "cell_type": "markdown",
   "metadata": {},
   "source": [
    "### Train the model"
   ]
  },
  {
   "cell_type": "code",
   "execution_count": 15,
   "metadata": {
    "scrolled": true
   },
   "outputs": [
    {
     "name": "stdout",
     "output_type": "stream",
     "text": [
      "WARNING:tensorflow:From /home/nxhuy/.local/lib/python3.6/site-packages/tensorflow/python/ops/resource_variable_ops.py:1666: calling BaseResourceVariable.__init__ (from tensorflow.python.ops.resource_variable_ops) with constraint is deprecated and will be removed in a future version.\n",
      "Instructions for updating:\n",
      "If using Keras pass *_constraint arguments to layers.\n",
      "WARNING:tensorflow:From /home/nxhuy/.local/lib/python3.6/site-packages/tensorflow/python/training/training_util.py:236: Variable.initialized_value (from tensorflow.python.ops.variables) is deprecated and will be removed in a future version.\n",
      "Instructions for updating:\n",
      "Use Variable.read_value. Variables in 2.X are initialized automatically both in eager and graph (inside tf.defun) contexts.\n",
      "INFO:tensorflow:Calling model_fn.\n",
      "WARNING:tensorflow:Layer dnn is casting an input tensor from dtype float64 to the layer's dtype of float32, which is new behavior in TensorFlow 2.  The layer has dtype float32 because it's dtype defaults to floatx.\n",
      "\n",
      "If you intended to run this layer in float32, you can safely ignore this warning. If in doubt, this warning is likely only an issue if you are porting a TensorFlow 1.X model to TensorFlow 2.\n",
      "\n",
      "To change all layers to have dtype float64 by default, call `tf.keras.backend.set_floatx('float64')`. To change just this layer, pass dtype='float64' to the layer constructor. If you are the author of this layer, you can disable autocasting by passing autocast=False to the base Layer constructor.\n",
      "\n",
      "WARNING:tensorflow:From /home/nxhuy/.local/lib/python3.6/site-packages/tensorflow/python/keras/optimizer_v2/adagrad.py:106: calling Constant.__init__ (from tensorflow.python.ops.init_ops) with dtype is deprecated and will be removed in a future version.\n",
      "Instructions for updating:\n",
      "Call initializer instance with the dtype argument instead of passing it to the constructor\n",
      "INFO:tensorflow:Done calling model_fn.\n",
      "INFO:tensorflow:Create CheckpointSaverHook.\n",
      "INFO:tensorflow:Graph was finalized.\n",
      "INFO:tensorflow:Running local_init_op.\n",
      "INFO:tensorflow:Done running local_init_op.\n",
      "INFO:tensorflow:Calling checkpoint listeners before saving checkpoint 0...\n",
      "INFO:tensorflow:Saving checkpoints for 0 into /tmp/tmpa5bm98jn/model.ckpt.\n",
      "INFO:tensorflow:Calling checkpoint listeners after saving checkpoint 0...\n",
      "INFO:tensorflow:loss = 1.6747538, step = 0\n",
      "INFO:tensorflow:global_step/sec: 239.647\n",
      "INFO:tensorflow:loss = 1.1456068, step = 100 (0.418 sec)\n",
      "INFO:tensorflow:global_step/sec: 312.053\n",
      "INFO:tensorflow:loss = 1.050523, step = 200 (0.320 sec)\n",
      "INFO:tensorflow:global_step/sec: 299.517\n",
      "INFO:tensorflow:loss = 1.0016599, step = 300 (0.334 sec)\n",
      "INFO:tensorflow:global_step/sec: 304.221\n",
      "INFO:tensorflow:loss = 0.97333336, step = 400 (0.329 sec)\n",
      "INFO:tensorflow:global_step/sec: 289.922\n",
      "INFO:tensorflow:loss = 0.95703506, step = 500 (0.344 sec)\n",
      "WARNING:tensorflow:It seems that global step (tf.train.get_global_step) has not been increased. Current value (could be stable): 502 vs previous value: 502. You could increase the global step by passing tf.train.get_global_step() to Optimizer.apply_gradients or Optimizer.minimize.\n",
      "INFO:tensorflow:global_step/sec: 266.33\n",
      "INFO:tensorflow:loss = 0.9420936, step = 600 (0.376 sec)\n",
      "INFO:tensorflow:global_step/sec: 277.221\n",
      "INFO:tensorflow:loss = 0.92412096, step = 700 (0.360 sec)\n",
      "INFO:tensorflow:global_step/sec: 283.368\n",
      "INFO:tensorflow:loss = 0.90128565, step = 800 (0.354 sec)\n",
      "INFO:tensorflow:global_step/sec: 293.53\n",
      "INFO:tensorflow:loss = 0.8916851, step = 900 (0.342 sec)\n",
      "INFO:tensorflow:global_step/sec: 255.7\n",
      "INFO:tensorflow:loss = 0.8763014, step = 1000 (0.391 sec)\n",
      "INFO:tensorflow:global_step/sec: 305.802\n",
      "INFO:tensorflow:loss = 0.86614007, step = 1100 (0.328 sec)\n",
      "INFO:tensorflow:global_step/sec: 309.233\n",
      "INFO:tensorflow:loss = 0.8493636, step = 1200 (0.321 sec)\n",
      "INFO:tensorflow:global_step/sec: 304.176\n",
      "INFO:tensorflow:loss = 0.8456276, step = 1300 (0.331 sec)\n",
      "INFO:tensorflow:global_step/sec: 306.682\n",
      "INFO:tensorflow:loss = 0.83365154, step = 1400 (0.325 sec)\n",
      "INFO:tensorflow:global_step/sec: 290.446\n",
      "INFO:tensorflow:loss = 0.8177935, step = 1500 (0.344 sec)\n",
      "WARNING:tensorflow:It seems that global step (tf.train.get_global_step) has not been increased. Current value (could be stable): 1540 vs previous value: 1540. You could increase the global step by passing tf.train.get_global_step() to Optimizer.apply_gradients or Optimizer.minimize.\n",
      "INFO:tensorflow:global_step/sec: 300.594\n",
      "INFO:tensorflow:loss = 0.8051063, step = 1600 (0.334 sec)\n",
      "INFO:tensorflow:global_step/sec: 304.251\n",
      "INFO:tensorflow:loss = 0.79081315, step = 1700 (0.327 sec)\n",
      "INFO:tensorflow:global_step/sec: 261.568\n",
      "INFO:tensorflow:loss = 0.7904906, step = 1800 (0.383 sec)\n",
      "INFO:tensorflow:global_step/sec: 282.692\n",
      "INFO:tensorflow:loss = 0.7796676, step = 1900 (0.355 sec)\n",
      "INFO:tensorflow:global_step/sec: 296.805\n",
      "INFO:tensorflow:loss = 0.7750559, step = 2000 (0.336 sec)\n",
      "INFO:tensorflow:global_step/sec: 289.348\n",
      "INFO:tensorflow:loss = 0.7575164, step = 2100 (0.345 sec)\n",
      "INFO:tensorflow:global_step/sec: 268.981\n",
      "INFO:tensorflow:loss = 0.7502752, step = 2200 (0.373 sec)\n",
      "INFO:tensorflow:global_step/sec: 310.378\n",
      "INFO:tensorflow:loss = 0.74001837, step = 2300 (0.320 sec)\n",
      "INFO:tensorflow:global_step/sec: 295.59\n",
      "INFO:tensorflow:loss = 0.73264134, step = 2400 (0.339 sec)\n",
      "INFO:tensorflow:global_step/sec: 302.212\n",
      "INFO:tensorflow:loss = 0.7281686, step = 2500 (0.332 sec)\n",
      "INFO:tensorflow:global_step/sec: 284.195\n",
      "INFO:tensorflow:loss = 0.7332914, step = 2600 (0.350 sec)\n",
      "INFO:tensorflow:global_step/sec: 292.205\n",
      "INFO:tensorflow:loss = 0.71856076, step = 2700 (0.342 sec)\n",
      "INFO:tensorflow:global_step/sec: 290.977\n",
      "INFO:tensorflow:loss = 0.7048112, step = 2800 (0.345 sec)\n",
      "INFO:tensorflow:global_step/sec: 288.331\n",
      "INFO:tensorflow:loss = 0.7099261, step = 2900 (0.345 sec)\n",
      "INFO:tensorflow:global_step/sec: 282.334\n",
      "INFO:tensorflow:loss = 0.6923484, step = 3000 (0.357 sec)\n",
      "INFO:tensorflow:global_step/sec: 283.949\n",
      "INFO:tensorflow:loss = 0.6920191, step = 3100 (0.349 sec)\n",
      "INFO:tensorflow:global_step/sec: 290.237\n",
      "INFO:tensorflow:loss = 0.68933034, step = 3200 (0.345 sec)\n",
      "INFO:tensorflow:global_step/sec: 285.106\n",
      "INFO:tensorflow:loss = 0.679102, step = 3300 (0.351 sec)\n",
      "INFO:tensorflow:global_step/sec: 288.138\n",
      "INFO:tensorflow:loss = 0.6683545, step = 3400 (0.347 sec)\n",
      "INFO:tensorflow:global_step/sec: 273.375\n",
      "INFO:tensorflow:loss = 0.6741012, step = 3500 (0.371 sec)\n",
      "INFO:tensorflow:global_step/sec: 280.778\n",
      "INFO:tensorflow:loss = 0.6596277, step = 3600 (0.351 sec)\n",
      "INFO:tensorflow:global_step/sec: 274.867\n",
      "INFO:tensorflow:loss = 0.6628156, step = 3700 (0.367 sec)\n",
      "INFO:tensorflow:global_step/sec: 297.69\n",
      "INFO:tensorflow:loss = 0.64766634, step = 3800 (0.333 sec)\n",
      "INFO:tensorflow:global_step/sec: 303.761\n",
      "INFO:tensorflow:loss = 0.64944005, step = 3900 (0.332 sec)\n",
      "INFO:tensorflow:global_step/sec: 280.394\n",
      "INFO:tensorflow:loss = 0.6549603, step = 4000 (0.356 sec)\n",
      "INFO:tensorflow:global_step/sec: 261.379\n",
      "INFO:tensorflow:loss = 0.63414496, step = 4100 (0.382 sec)\n",
      "INFO:tensorflow:global_step/sec: 290.396\n",
      "INFO:tensorflow:loss = 0.62973654, step = 4200 (0.344 sec)\n",
      "INFO:tensorflow:global_step/sec: 281.743\n",
      "INFO:tensorflow:loss = 0.62721735, step = 4300 (0.355 sec)\n",
      "INFO:tensorflow:global_step/sec: 315.641\n",
      "INFO:tensorflow:loss = 0.62991387, step = 4400 (0.316 sec)\n",
      "INFO:tensorflow:global_step/sec: 292.884\n",
      "INFO:tensorflow:loss = 0.6215918, step = 4500 (0.345 sec)\n",
      "INFO:tensorflow:global_step/sec: 298.345\n",
      "INFO:tensorflow:loss = 0.62562066, step = 4600 (0.331 sec)\n",
      "INFO:tensorflow:global_step/sec: 288.946\n",
      "INFO:tensorflow:loss = 0.6140489, step = 4700 (0.346 sec)\n",
      "INFO:tensorflow:global_step/sec: 293.07\n",
      "INFO:tensorflow:loss = 0.6083231, step = 4800 (0.343 sec)\n",
      "INFO:tensorflow:global_step/sec: 305.163\n",
      "INFO:tensorflow:loss = 0.5916492, step = 4900 (0.327 sec)\n",
      "INFO:tensorflow:Calling checkpoint listeners before saving checkpoint 5000...\n",
      "INFO:tensorflow:Saving checkpoints for 5000 into /tmp/tmpa5bm98jn/model.ckpt.\n",
      "INFO:tensorflow:Calling checkpoint listeners after saving checkpoint 5000...\n",
      "INFO:tensorflow:Loss for final step: 0.6125648.\n"
     ]
    },
    {
     "data": {
      "text/plain": [
       "<tensorflow_estimator.python.estimator.canned.dnn.DNNClassifierV2 at 0x7fd63d0d6128>"
      ]
     },
     "execution_count": 15,
     "metadata": {},
     "output_type": "execute_result"
    }
   ],
   "source": [
    "classifier.train(\n",
    "    input_fn=lambda: input_fn(train, train_y, training=True),\n",
    "    steps=5000\n",
    ")"
   ]
  },
  {
   "cell_type": "markdown",
   "metadata": {},
   "source": [
    "<div class=\"alert alert-info\">\n",
    "    <b>Technical note:</b> we wrap up your <code>input_fn</code> call in a <code>lambda</code> to capture the arguments while providing an input function that takes no arguments, as expected by the Estimator. \n",
    "</div>"
   ]
  },
  {
   "cell_type": "markdown",
   "metadata": {},
   "source": [
    "### Evaluate the trained model"
   ]
  },
  {
   "cell_type": "code",
   "execution_count": 16,
   "metadata": {},
   "outputs": [
    {
     "name": "stdout",
     "output_type": "stream",
     "text": [
      "INFO:tensorflow:Calling model_fn.\n",
      "WARNING:tensorflow:Layer dnn is casting an input tensor from dtype float64 to the layer's dtype of float32, which is new behavior in TensorFlow 2.  The layer has dtype float32 because it's dtype defaults to floatx.\n",
      "\n",
      "If you intended to run this layer in float32, you can safely ignore this warning. If in doubt, this warning is likely only an issue if you are porting a TensorFlow 1.X model to TensorFlow 2.\n",
      "\n",
      "To change all layers to have dtype float64 by default, call `tf.keras.backend.set_floatx('float64')`. To change just this layer, pass dtype='float64' to the layer constructor. If you are the author of this layer, you can disable autocasting by passing autocast=False to the base Layer constructor.\n",
      "\n",
      "INFO:tensorflow:Done calling model_fn.\n",
      "INFO:tensorflow:Starting evaluation at 2020-07-28T21:00:59Z\n",
      "INFO:tensorflow:Graph was finalized.\n",
      "INFO:tensorflow:Restoring parameters from /tmp/tmpa5bm98jn/model.ckpt-5000\n",
      "INFO:tensorflow:Running local_init_op.\n",
      "INFO:tensorflow:Done running local_init_op.\n",
      "INFO:tensorflow:Inference Time : 0.68359s\n",
      "INFO:tensorflow:Finished evaluation at 2020-07-28-21:01:00\n",
      "INFO:tensorflow:Saving dict for global step 5000: accuracy = 0.53333336, average_loss = 0.7011381, global_step = 5000, loss = 0.7011381\n",
      "INFO:tensorflow:Saving 'checkpoint_path' summary for global step 5000: /tmp/tmpa5bm98jn/model.ckpt-5000\n",
      "\n",
      "Test set accuracy: 0.533\n",
      "\n"
     ]
    }
   ],
   "source": [
    "eval_result = classifier.evaluate(\n",
    "    input_fn=lambda : input_fn(test, test_y, training=False)\n",
    ")\n",
    "\n",
    "print('\\nTest set accuracy: {accuracy:0.3f}\\n'.format(**eval_result))"
   ]
  },
  {
   "cell_type": "markdown",
   "metadata": {},
   "source": [
    "### Making predictions"
   ]
  },
  {
   "cell_type": "code",
   "execution_count": 17,
   "metadata": {},
   "outputs": [],
   "source": [
    "expected = ['Setosa', 'Versicolor', 'Virginica']\n",
    "predict_x = {\n",
    "    'SepalLength': [5.1, 5.9, 6.9],\n",
    "    'SepalWidth': [3.3, 3.0, 3.1],\n",
    "    'PetalLength': [1.7, 4.2, 5.4],\n",
    "    'PetalWidth': [0.5, 1.5, 2.1],\n",
    "}\n",
    "\n",
    "def input_pred_fn(features, batch_size=256):\n",
    "    \"\"\"An input function for prediction.\"\"\"\n",
    "    # Convert the inputs to a Dataset without labels.\n",
    "    return tf.data.Dataset.from_tensor_slices(dict(features)).batch(batch_size)\n",
    "\n",
    "predictions = classifier.predict(\n",
    "    input_fn=lambda: input_pred_fn(predict_x))"
   ]
  },
  {
   "cell_type": "code",
   "execution_count": 18,
   "metadata": {},
   "outputs": [
    {
     "data": {
      "text/plain": [
       "<generator object Estimator.predict at 0x7fd638116150>"
      ]
     },
     "execution_count": 18,
     "metadata": {},
     "output_type": "execute_result"
    }
   ],
   "source": [
    "predictions"
   ]
  },
  {
   "cell_type": "code",
   "execution_count": 19,
   "metadata": {},
   "outputs": [
    {
     "name": "stdout",
     "output_type": "stream",
     "text": [
      "INFO:tensorflow:Calling model_fn.\n",
      "INFO:tensorflow:Done calling model_fn.\n",
      "INFO:tensorflow:Graph was finalized.\n",
      "INFO:tensorflow:Restoring parameters from /tmp/tmpa5bm98jn/model.ckpt-5000\n",
      "INFO:tensorflow:Running local_init_op.\n",
      "INFO:tensorflow:Done running local_init_op.\n",
      "Prediction is \"Setosa\" (66.9%), expected \"Setosa\"\n",
      "Prediction is \"Virginica\" (51.8%), expected \"Versicolor\"\n",
      "Prediction is \"Virginica\" (57.0%), expected \"Virginica\"\n"
     ]
    }
   ],
   "source": [
    "for pred_dict, expec in zip(predictions, expected):\n",
    "    class_id = pred_dict['class_ids'][0]\n",
    "    probability = pred_dict['probabilities'][class_id]\n",
    "\n",
    "    print('Prediction is \"{}\" ({:.1f}%), expected \"{}\"'.format(\n",
    "        SPECIES[class_id], 100 * probability, expec))"
   ]
  },
  {
   "cell_type": "markdown",
   "metadata": {},
   "source": [
    "## References\n",
    "\n",
    "- https://www.tensorflow.org/tutorials/estimator/premade"
   ]
  },
  {
   "cell_type": "code",
   "execution_count": null,
   "metadata": {},
   "outputs": [],
   "source": []
  }
 ],
 "metadata": {
  "kernelspec": {
   "display_name": "Python 3",
   "language": "python",
   "name": "python3"
  },
  "language_info": {
   "codemirror_mode": {
    "name": "ipython",
    "version": 3
   },
   "file_extension": ".py",
   "mimetype": "text/x-python",
   "name": "python",
   "nbconvert_exporter": "python",
   "pygments_lexer": "ipython3",
   "version": "3.6.9"
  },
  "toc": {
   "base_numbering": 1,
   "nav_menu": {},
   "number_sections": true,
   "sideBar": true,
   "skip_h1_title": false,
   "title_cell": "Table of Contents",
   "title_sidebar": "Contents",
   "toc_cell": false,
   "toc_position": {},
   "toc_section_display": true,
   "toc_window_display": false
  },
  "varInspector": {
   "cols": {
    "lenName": 16,
    "lenType": 16,
    "lenVar": 40
   },
   "kernels_config": {
    "python": {
     "delete_cmd_postfix": "",
     "delete_cmd_prefix": "del ",
     "library": "var_list.py",
     "varRefreshCmd": "print(var_dic_list())"
    },
    "r": {
     "delete_cmd_postfix": ") ",
     "delete_cmd_prefix": "rm(",
     "library": "var_list.r",
     "varRefreshCmd": "cat(var_dic_list()) "
    }
   },
   "types_to_exclude": [
    "module",
    "function",
    "builtin_function_or_method",
    "instance",
    "_Feature"
   ],
   "window_display": false
  }
 },
 "nbformat": 4,
 "nbformat_minor": 4
}
