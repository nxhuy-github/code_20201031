{
 "cells": [
  {
   "cell_type": "markdown",
   "metadata": {},
   "source": [
    "We'll use the IMDB dataset, tf.keras for our model, Tensorflow Hub for transfer learning."
   ]
  },
  {
   "cell_type": "code",
   "execution_count": 2,
   "metadata": {},
   "outputs": [
    {
     "name": "stdout",
     "output_type": "stream",
     "text": [
      "Version: 2.2.0\n",
      "Eager version: True\n",
      "Hub version: 0.8.0\n",
      "GPU is NOT AVAILABLE\n"
     ]
    }
   ],
   "source": [
    "import numpy as np\n",
    "\n",
    "import tensorflow as tf\n",
    "\n",
    "!pip install -q tensorflow-hub\n",
    "!pip install -q tfds-nightly\n",
    "import tensorflow_hub as hub\n",
    "import tensorflow_datasets as tfds\n",
    "\n",
    "print(f\"Version: {tf.__version__}\")\n",
    "print(f\"Eager version: {tf.executing_eagerly()}\")\n",
    "print(f\"Hub version: {hub.__version__}\")\n",
    "print(f\"GPU is {'available' if tf.config.experimental.list_physical_devices('GPU') else 'NOT AVAILABLE'}\")"
   ]
  },
  {
   "cell_type": "markdown",
   "metadata": {},
   "source": [
    "## Download the IMDB dataset"
   ]
  },
  {
   "cell_type": "code",
   "execution_count": 3,
   "metadata": {
    "scrolled": true
   },
   "outputs": [
    {
     "name": "stdout",
     "output_type": "stream",
     "text": [
      "\u001b[1mDownloading and preparing dataset imdb_reviews/plain_text/1.0.0 (download: 80.23 MiB, generated: Unknown size, total: 80.23 MiB) to /home/nxhuy/tensorflow_datasets/imdb_reviews/plain_text/1.0.0...\u001b[0m\n"
     ]
    },
    {
     "data": {
      "application/vnd.jupyter.widget-view+json": {
       "model_id": "4c21fb4a57e949668f5adb5661e08367",
       "version_major": 2,
       "version_minor": 0
      },
      "text/plain": [
       "HBox(children=(FloatProgress(value=1.0, bar_style='info', description='Dl Completed...', max=1.0, style=Progre…"
      ]
     },
     "metadata": {},
     "output_type": "display_data"
    },
    {
     "data": {
      "application/vnd.jupyter.widget-view+json": {
       "model_id": "1bf465a378b24829b3ebd9b9e129c16b",
       "version_major": 2,
       "version_minor": 0
      },
      "text/plain": [
       "HBox(children=(FloatProgress(value=1.0, bar_style='info', description='Dl Size...', max=1.0, style=ProgressSty…"
      ]
     },
     "metadata": {},
     "output_type": "display_data"
    },
    {
     "name": "stdout",
     "output_type": "stream",
     "text": [
      "\n",
      "\n",
      "\n",
      "\n"
     ]
    },
    {
     "data": {
      "application/vnd.jupyter.widget-view+json": {
       "model_id": "23e508faa73c4151b0db83a299dc5db4",
       "version_major": 2,
       "version_minor": 0
      },
      "text/plain": [
       "HBox(children=(FloatProgress(value=1.0, bar_style='info', max=1.0), HTML(value='')))"
      ]
     },
     "metadata": {},
     "output_type": "display_data"
    },
    {
     "name": "stdout",
     "output_type": "stream",
     "text": [
      "Shuffling and writing examples to /home/nxhuy/tensorflow_datasets/imdb_reviews/plain_text/1.0.0.incompleteKLEU39/imdb_reviews-train.tfrecord\n"
     ]
    },
    {
     "data": {
      "application/vnd.jupyter.widget-view+json": {
       "model_id": "7543362c2d1142a88131d3e4399d9b01",
       "version_major": 2,
       "version_minor": 0
      },
      "text/plain": [
       "HBox(children=(FloatProgress(value=0.0, max=25000.0), HTML(value='')))"
      ]
     },
     "metadata": {},
     "output_type": "display_data"
    },
    {
     "data": {
      "application/vnd.jupyter.widget-view+json": {
       "model_id": "a1ceac7b23d4409c8017c595605f9940",
       "version_major": 2,
       "version_minor": 0
      },
      "text/plain": [
       "HBox(children=(FloatProgress(value=1.0, bar_style='info', max=1.0), HTML(value='')))"
      ]
     },
     "metadata": {},
     "output_type": "display_data"
    },
    {
     "name": "stdout",
     "output_type": "stream",
     "text": [
      "Shuffling and writing examples to /home/nxhuy/tensorflow_datasets/imdb_reviews/plain_text/1.0.0.incompleteKLEU39/imdb_reviews-test.tfrecord\n"
     ]
    },
    {
     "data": {
      "application/vnd.jupyter.widget-view+json": {
       "model_id": "67a271883a1f4a1ba4b4b3811f9b2dd7",
       "version_major": 2,
       "version_minor": 0
      },
      "text/plain": [
       "HBox(children=(FloatProgress(value=0.0, max=25000.0), HTML(value='')))"
      ]
     },
     "metadata": {},
     "output_type": "display_data"
    },
    {
     "data": {
      "application/vnd.jupyter.widget-view+json": {
       "model_id": "60cebf8ae7034d3babd5ae30b36cee93",
       "version_major": 2,
       "version_minor": 0
      },
      "text/plain": [
       "HBox(children=(FloatProgress(value=1.0, bar_style='info', max=1.0), HTML(value='')))"
      ]
     },
     "metadata": {},
     "output_type": "display_data"
    },
    {
     "name": "stdout",
     "output_type": "stream",
     "text": [
      "Shuffling and writing examples to /home/nxhuy/tensorflow_datasets/imdb_reviews/plain_text/1.0.0.incompleteKLEU39/imdb_reviews-unsupervised.tfrecord\n"
     ]
    },
    {
     "data": {
      "application/vnd.jupyter.widget-view+json": {
       "model_id": "a7b9b1804e4841dca1fe43e16d62784b",
       "version_major": 2,
       "version_minor": 0
      },
      "text/plain": [
       "HBox(children=(FloatProgress(value=0.0, max=50000.0), HTML(value='')))"
      ]
     },
     "metadata": {},
     "output_type": "display_data"
    },
    {
     "name": "stdout",
     "output_type": "stream",
     "text": [
      "\u001b[1mDataset imdb_reviews downloaded and prepared to /home/nxhuy/tensorflow_datasets/imdb_reviews/plain_text/1.0.0. Subsequent calls will reuse this data.\u001b[0m\n"
     ]
    }
   ],
   "source": [
    "train_data, validation_data, test_data = tfds.load(\n",
    "    name='imdb_reviews',\n",
    "    split=('train[:60%]', 'train[60%:]', 'test'),\n",
    "    as_supervised=True\n",
    ")"
   ]
  },
  {
   "cell_type": "markdown",
   "metadata": {},
   "source": [
    "## Explore the data"
   ]
  },
  {
   "cell_type": "code",
   "execution_count": 5,
   "metadata": {
    "scrolled": true
   },
   "outputs": [
    {
     "data": {
      "text/plain": [
       "<tf.Tensor: shape=(10,), dtype=string, numpy=\n",
       "array([b\"This was an absolutely terrible movie. Don't be lured in by Christopher Walken or Michael Ironside. Both are great actors, but this must simply be their worst role in history. Even their great acting could not redeem this movie's ridiculous storyline. This movie is an early nineties US propaganda piece. The most pathetic scenes were those when the Columbian rebels were making their cases for revolutions. Maria Conchita Alonso appeared phony, and her pseudo-love affair with Walken was nothing but a pathetic emotional plug in a movie that was devoid of any real meaning. I am disappointed that there are movies like this, ruining actor's like Christopher Walken's good name. I could barely sit through it.\",\n",
       "       b'I have been known to fall asleep during films, but this is usually due to a combination of things including, really tired, being warm and comfortable on the sette and having just eaten a lot. However on this occasion I fell asleep because the film was rubbish. The plot development was constant. Constantly slow and boring. Things seemed to happen, but with no explanation of what was causing them or why. I admit, I may have missed part of the film, but i watched the majority of it and everything just seemed to happen of its own accord without any real concern for anything else. I cant recommend this film at all.',\n",
       "       b'Mann photographs the Alberta Rocky Mountains in a superb fashion, and Jimmy Stewart and Walter Brennan give enjoyable performances as they always seem to do. <br /><br />But come on Hollywood - a Mountie telling the people of Dawson City, Yukon to elect themselves a marshal (yes a marshal!) and to enforce the law themselves, then gunfighters battling it out on the streets for control of the town? <br /><br />Nothing even remotely resembling that happened on the Canadian side of the border during the Klondike gold rush. Mr. Mann and company appear to have mistaken Dawson City for Deadwood, the Canadian North for the American Wild West.<br /><br />Canadian viewers be prepared for a Reefer Madness type of enjoyable howl with this ludicrous plot, or, to shake your head in disgust.',\n",
       "       b'This is the kind of film for a snowy Sunday afternoon when the rest of the world can go ahead with its own business as you descend into a big arm-chair and mellow for a couple of hours. Wonderful performances from Cher and Nicolas Cage (as always) gently row the plot along. There are no rapids to cross, no dangerous waters, just a warm and witty paddle through New York life at its best. A family film in every sense and one that deserves the praise it received.',\n",
       "       b'As others have mentioned, all the women that go nude in this film are mostly absolutely gorgeous. The plot very ably shows the hypocrisy of the female libido. When men are around they want to be pursued, but when no \"men\" are around, they become the pursuers of a 14 year old boy. And the boy becomes a man really fast (we should all be so lucky at this age!). He then gets up the courage to pursue his true love.',\n",
       "       b\"This is a film which should be seen by anybody interested in, effected by, or suffering from an eating disorder. It is an amazingly accurate and sensitive portrayal of bulimia in a teenage girl, its causes and its symptoms. The girl is played by one of the most brilliant young actresses working in cinema today, Alison Lohman, who was later so spectacular in 'Where the Truth Lies'. I would recommend that this film be shown in all schools, as you will never see a better on this subject. Alison Lohman is absolutely outstanding, and one marvels at her ability to convey the anguish of a girl suffering from this compulsive disorder. If barometers tell us the air pressure, Alison Lohman tells us the emotional pressure with the same degree of accuracy. Her emotional range is so precise, each scene could be measured microscopically for its gradations of trauma, on a scale of rising hysteria and desperation which reaches unbearable intensity. Mare Winningham is the perfect choice to play her mother, and does so with immense sympathy and a range of emotions just as finely tuned as Lohman's. Together, they make a pair of sensitive emotional oscillators vibrating in resonance with one another. This film is really an astonishing achievement, and director Katt Shea should be proud of it. The only reason for not seeing it is if you are not interested in people. But even if you like nature films best, this is after all animal behaviour at the sharp edge. Bulimia is an extreme version of how a tormented soul can destroy her own body in a frenzy of despair. And if we don't sympathise with people suffering from the depths of despair, then we are dead inside.\",\n",
       "       b'Okay, you have:<br /><br />Penelope Keith as Miss Herringbone-Tweed, B.B.E. (Backbone of England.) She\\'s killed off in the first scene - that\\'s right, folks; this show has no backbone!<br /><br />Peter O\\'Toole as Ol\\' Colonel Cricket from The First War and now the emblazered Lord of the Manor.<br /><br />Joanna Lumley as the ensweatered Lady of the Manor, 20 years younger than the colonel and 20 years past her own prime but still glamourous (Brit spelling, not mine) enough to have a toy-boy on the side. It\\'s alright, they have Col. Cricket\\'s full knowledge and consent (they guy even comes \\'round for Christmas!) Still, she\\'s considerate of the colonel enough to have said toy-boy her own age (what a gal!)<br /><br />David McCallum as said toy-boy, equally as pointlessly glamourous as his squeeze. Pilcher couldn\\'t come up with any cover for him within the story, so she gave him a hush-hush job at the Circus.<br /><br />and finally:<br /><br />Susan Hampshire as Miss Polonia Teacups, Venerable Headmistress of the Venerable Girls\\' Boarding-School, serving tea in her office with a dash of deep, poignant advice for life in the outside world just before graduation. Her best bit of advice: \"I\\'ve only been to Nancherrow (the local Stately Home of England) once. I thought it was very beautiful but, somehow, not part of the real world.\" Well, we can\\'t say they didn\\'t warn us.<br /><br />Ah, Susan - time was, your character would have been running the whole show. They don\\'t write \\'em like that any more. Our loss, not yours.<br /><br />So - with a cast and setting like this, you have the re-makings of \"Brideshead Revisited,\" right?<br /><br />Wrong! They took these 1-dimensional supporting roles because they paid so well. After all, acting is one of the oldest temp-jobs there is (YOU name another!)<br /><br />First warning sign: lots and lots of backlighting. They get around it by shooting outdoors - \"hey, it\\'s just the sunlight!\"<br /><br />Second warning sign: Leading Lady cries a lot. When not crying, her eyes are moist. That\\'s the law of romance novels: Leading Lady is \"dewy-eyed.\"<br /><br />Henceforth, Leading Lady shall be known as L.L.<br /><br />Third warning sign: L.L. actually has stars in her eyes when she\\'s in love. Still, I\\'ll give Emily Mortimer an award just for having to act with that spotlight in her eyes (I wonder . did they use contacts?)<br /><br />And lastly, fourth warning sign: no on-screen female character is \"Mrs.\" She\\'s either \"Miss\" or \"Lady.\"<br /><br />When all was said and done, I still couldn\\'t tell you who was pursuing whom and why. I couldn\\'t even tell you what was said and done.<br /><br />To sum up: they all live through World War II without anything happening to them at all.<br /><br />OK, at the end, L.L. finds she\\'s lost her parents to the Japanese prison camps and baby sis comes home catatonic. Meanwhile (there\\'s always a \"meanwhile,\") some young guy L.L. had a crush on (when, I don\\'t know) comes home from some wartime tough spot and is found living on the street by Lady of the Manor (must be some street if SHE\\'s going to find him there.) Both war casualties are whisked away to recover at Nancherrow (SOMEBODY has to be \"whisked away\" SOMEWHERE in these romance stories!)<br /><br />Great drama.',\n",
       "       b'The film is based on a genuine 1950s novel.<br /><br />Journalist Colin McInnes wrote a set of three \"London novels\": \"Absolute Beginners\", \"City of Spades\" and \"Mr Love and Justice\". I have read all three. The first two are excellent. The last, perhaps an experiment that did not come off. But McInnes\\'s work is highly acclaimed; and rightly so. This musical is the novelist\\'s ultimate nightmare - to see the fruits of one\\'s mind being turned into a glitzy, badly-acted, soporific one-dimensional apology of a film that says it captures the spirit of 1950s London, and does nothing of the sort.<br /><br />Thank goodness Colin McInnes wasn\\'t alive to witness it.',\n",
       "       b'I really love the sexy action and sci-fi films of the sixties and its because of the actress\\'s that appeared in them. They found the sexiest women to be in these films and it didn\\'t matter if they could act (Remember \"Candy\"?). The reason I was disappointed by this film was because it wasn\\'t nostalgic enough. The story here has a European sci-fi film called \"Dragonfly\" being made and the director is fired. So the producers decide to let a young aspiring filmmaker (Jeremy Davies) to complete the picture. They\\'re is one real beautiful woman in the film who plays Dragonfly but she\\'s barely in it. Film is written and directed by Roman Coppola who uses some of his fathers exploits from his early days and puts it into the script. I wish the film could have been an homage to those early films. They could have lots of cameos by actors who appeared in them. There is one actor in this film who was popular from the sixties and its John Phillip Law (Barbarella). Gerard Depardieu, Giancarlo Giannini and Dean Stockwell appear as well. I guess I\\'m going to have to continue waiting for a director to make a good homage to the films of the sixties. If any are reading this, \"Make it as sexy as you can\"! I\\'ll be waiting!',\n",
       "       b'Sure, this one isn\\'t really a blockbuster, nor does it target such a position. \"Dieter\" is the first name of a quite popular German musician, who is either loved or hated for his kind of acting and thats exactly what this movie is about. It is based on the autobiography \"Dieter Bohlen\" wrote a few years ago but isn\\'t meant to be accurate on that. The movie is filled with some sexual offensive content (at least for American standard) which is either amusing (not for the other \"actors\" of course) or dumb - it depends on your individual kind of humor or on you being a \"Bohlen\"-Fan or not. Technically speaking there isn\\'t much to criticize. Speaking of me I find this movie to be an OK-movie.'],\n",
       "      dtype=object)>"
      ]
     },
     "execution_count": 5,
     "metadata": {},
     "output_type": "execute_result"
    }
   ],
   "source": [
    "# view data\n",
    "train_examples_batch, train_labels_batch = next(iter(train_data.batch(10)))\n",
    "\n",
    "# batch size = 10\n",
    "train_examples_batch"
   ]
  },
  {
   "cell_type": "code",
   "execution_count": 6,
   "metadata": {},
   "outputs": [
    {
     "data": {
      "text/plain": [
       "<tf.Tensor: shape=(10,), dtype=int64, numpy=array([0, 0, 0, 1, 1, 1, 0, 0, 0, 0])>"
      ]
     },
     "execution_count": 6,
     "metadata": {},
     "output_type": "execute_result"
    }
   ],
   "source": [
    "train_labels_batch"
   ]
  },
  {
   "cell_type": "markdown",
   "metadata": {},
   "source": [
    "## Build the model"
   ]
  },
  {
   "cell_type": "code",
   "execution_count": 7,
   "metadata": {},
   "outputs": [
    {
     "data": {
      "text/plain": [
       "<tf.Tensor: shape=(3, 20), dtype=float32, numpy=\n",
       "array([[ 1.765786  , -3.882232  ,  3.9134233 , -1.5557289 , -3.3362343 ,\n",
       "        -1.7357955 , -1.9954445 ,  1.2989551 ,  5.081598  , -1.1041286 ,\n",
       "        -2.0503852 , -0.72675157, -0.65675956,  0.24436149, -3.7208383 ,\n",
       "         2.0954835 ,  2.2969332 , -2.0689783 , -2.9489717 , -1.1315987 ],\n",
       "       [ 1.8804485 , -2.5852382 ,  3.4066997 ,  1.0982676 , -4.056685  ,\n",
       "        -4.891284  , -2.785554  ,  1.3874227 ,  3.8476458 , -0.9256538 ,\n",
       "        -1.896706  ,  1.2113281 ,  0.11474707,  0.76209456, -4.8791065 ,\n",
       "         2.906149  ,  4.7087674 , -2.3652055 , -3.5015898 , -1.6390051 ],\n",
       "       [ 0.71152234, -0.6353217 ,  1.7385626 , -1.1168286 , -0.5451594 ,\n",
       "        -1.1808156 ,  0.09504455,  1.4653089 ,  0.66059524,  0.79308075,\n",
       "        -2.2268345 ,  0.07446612, -1.4075904 , -0.70645386, -1.907037  ,\n",
       "         1.4419787 ,  1.9551861 , -0.42660055, -2.8022065 ,  0.43727064]],\n",
       "      dtype=float32)>"
      ]
     },
     "execution_count": 7,
     "metadata": {},
     "output_type": "execute_result"
    }
   ],
   "source": [
    "embedding = \"https://tfhub.dev/google/tf2-preview/gnews-swivel-20dim/1\"\n",
    "hub_layer = hub.KerasLayer(embedding, input_shape=[], dtype=tf.string, trainable=True)\n",
    "\n",
    "hub_layer(train_examples_batch[:3])"
   ]
  },
  {
   "cell_type": "code",
   "execution_count": 9,
   "metadata": {},
   "outputs": [
    {
     "name": "stdout",
     "output_type": "stream",
     "text": [
      "Model: \"sequential\"\n",
      "_________________________________________________________________\n",
      "Layer (type)                 Output Shape              Param #   \n",
      "=================================================================\n",
      "keras_layer (KerasLayer)     (None, 20)                400020    \n",
      "_________________________________________________________________\n",
      "dense_1 (Dense)              (None, 16)                336       \n",
      "_________________________________________________________________\n",
      "dense_2 (Dense)              (None, 1)                 17        \n",
      "=================================================================\n",
      "Total params: 400,373\n",
      "Trainable params: 400,373\n",
      "Non-trainable params: 0\n",
      "_________________________________________________________________\n"
     ]
    }
   ],
   "source": [
    "model = tf.keras.Sequential([\n",
    "    hub_layer,\n",
    "    tf.keras.layers.Dense(16, activation='relu'),\n",
    "    tf.keras.layers.Dense(1)\n",
    "])\n",
    "\n",
    "model.summary()"
   ]
  },
  {
   "cell_type": "markdown",
   "metadata": {},
   "source": [
    "### Loss function and optimizer"
   ]
  },
  {
   "cell_type": "code",
   "execution_count": 10,
   "metadata": {},
   "outputs": [],
   "source": [
    "model.compile(optimizer='adam',\n",
    "              loss=tf.keras.losses.BinaryCrossentropy(from_logits=True), \n",
    "              metrics=['accuracy'])"
   ]
  },
  {
   "cell_type": "markdown",
   "metadata": {},
   "source": [
    "## Train the model"
   ]
  },
  {
   "cell_type": "code",
   "execution_count": 11,
   "metadata": {
    "scrolled": true
   },
   "outputs": [
    {
     "name": "stdout",
     "output_type": "stream",
     "text": [
      "Epoch 1/20\n",
      "30/30 [==============================] - 3s 109ms/step - loss: 0.8532 - accuracy: 0.4954 - val_loss: 0.7327 - val_accuracy: 0.5499\n",
      "Epoch 2/20\n",
      "30/30 [==============================] - 3s 100ms/step - loss: 0.6643 - accuracy: 0.5889 - val_loss: 0.6254 - val_accuracy: 0.6310\n",
      "Epoch 3/20\n",
      "30/30 [==============================] - 3s 101ms/step - loss: 0.5961 - accuracy: 0.6493 - val_loss: 0.5844 - val_accuracy: 0.6602\n",
      "Epoch 4/20\n",
      "30/30 [==============================] - 3s 101ms/step - loss: 0.5592 - accuracy: 0.6857 - val_loss: 0.5539 - val_accuracy: 0.6888\n",
      "Epoch 5/20\n",
      "30/30 [==============================] - 3s 114ms/step - loss: 0.5267 - accuracy: 0.7185 - val_loss: 0.5264 - val_accuracy: 0.7171\n",
      "Epoch 6/20\n",
      "30/30 [==============================] - 3s 110ms/step - loss: 0.4956 - accuracy: 0.7452 - val_loss: 0.5004 - val_accuracy: 0.7404\n",
      "Epoch 7/20\n",
      "30/30 [==============================] - 3s 105ms/step - loss: 0.4639 - accuracy: 0.7695 - val_loss: 0.4751 - val_accuracy: 0.7587\n",
      "Epoch 8/20\n",
      "30/30 [==============================] - 3s 103ms/step - loss: 0.4322 - accuracy: 0.7942 - val_loss: 0.4497 - val_accuracy: 0.7727\n",
      "Epoch 9/20\n",
      "30/30 [==============================] - 3s 103ms/step - loss: 0.3993 - accuracy: 0.8131 - val_loss: 0.4251 - val_accuracy: 0.7920\n",
      "Epoch 10/20\n",
      "30/30 [==============================] - 3s 107ms/step - loss: 0.3689 - accuracy: 0.8339 - val_loss: 0.4034 - val_accuracy: 0.8100\n",
      "Epoch 11/20\n",
      "30/30 [==============================] - 3s 101ms/step - loss: 0.3387 - accuracy: 0.8508 - val_loss: 0.3838 - val_accuracy: 0.8156\n",
      "Epoch 12/20\n",
      "30/30 [==============================] - 3s 112ms/step - loss: 0.3112 - accuracy: 0.8658 - val_loss: 0.3663 - val_accuracy: 0.8291\n",
      "Epoch 13/20\n",
      "30/30 [==============================] - 3s 114ms/step - loss: 0.2864 - accuracy: 0.8783 - val_loss: 0.3522 - val_accuracy: 0.8387\n",
      "Epoch 14/20\n",
      "30/30 [==============================] - 3s 109ms/step - loss: 0.2636 - accuracy: 0.8904 - val_loss: 0.3405 - val_accuracy: 0.8417\n",
      "Epoch 15/20\n",
      "30/30 [==============================] - 3s 103ms/step - loss: 0.2440 - accuracy: 0.9013 - val_loss: 0.3338 - val_accuracy: 0.8438\n",
      "Epoch 16/20\n",
      "30/30 [==============================] - 3s 103ms/step - loss: 0.2255 - accuracy: 0.9113 - val_loss: 0.3244 - val_accuracy: 0.8504\n",
      "Epoch 17/20\n",
      "30/30 [==============================] - 3s 102ms/step - loss: 0.2109 - accuracy: 0.9172 - val_loss: 0.3184 - val_accuracy: 0.8575\n",
      "Epoch 18/20\n",
      "30/30 [==============================] - 3s 104ms/step - loss: 0.1956 - accuracy: 0.9257 - val_loss: 0.3160 - val_accuracy: 0.8623\n",
      "Epoch 19/20\n",
      "30/30 [==============================] - 3s 104ms/step - loss: 0.1826 - accuracy: 0.9323 - val_loss: 0.3123 - val_accuracy: 0.8614\n",
      "Epoch 20/20\n",
      "30/30 [==============================] - 3s 104ms/step - loss: 0.1695 - accuracy: 0.9369 - val_loss: 0.3109 - val_accuracy: 0.8633\n"
     ]
    }
   ],
   "source": [
    "history = model.fit(train_data.shuffle(10000).batch(512),\n",
    "                    epochs=20,\n",
    "                    validation_data=validation_data.batch(512),\n",
    "                    verbose=1)"
   ]
  },
  {
   "cell_type": "markdown",
   "metadata": {},
   "source": [
    "## Evaluate the model"
   ]
  },
  {
   "cell_type": "code",
   "execution_count": 12,
   "metadata": {},
   "outputs": [
    {
     "name": "stdout",
     "output_type": "stream",
     "text": [
      "49/49 - 3s - loss: 0.3260 - accuracy: 0.8559\n",
      "loss: 0.326\n",
      "accuracy: 0.856\n"
     ]
    }
   ],
   "source": [
    "results = model.evaluate(test_data.batch(512), verbose=2)\n",
    "\n",
    "for name, value in zip(model.metrics_names, results):\n",
    "    print(\"%s: %.3f\" % (name, value))"
   ]
  },
  {
   "cell_type": "code",
   "execution_count": 16,
   "metadata": {},
   "outputs": [
    {
     "data": {
      "text/plain": [
       "[<tf.Variable 'Variable:0' shape=(20001, 20) dtype=float32, numpy=\n",
       " array([[-0.60565156, -0.01413231,  0.79470503, ...,  0.7346931 ,\n",
       "         -0.341707  , -0.43011868],\n",
       "        [-1.2047577 ,  0.21791467,  1.1384295 , ...,  0.74889004,\n",
       "         -0.41222748,  0.11590002],\n",
       "        [-1.1219835 , -0.08905376, -1.4896572 , ..., -0.76676595,\n",
       "          0.962041  ,  0.30460244],\n",
       "        ...,\n",
       "        [ 0.13454673, -0.15173355,  0.5368477 , ...,  0.8319293 ,\n",
       "         -0.61366147, -1.0842572 ],\n",
       "        [ 0.20673902, -0.1418509 , -0.5856179 , ..., -0.02331898,\n",
       "          1.6080966 , -0.6525672 ],\n",
       "        [-0.01625557,  0.01267959,  0.0194213 , ..., -0.04215106,\n",
       "         -0.05283974,  0.02751774]], dtype=float32)>,\n",
       " <tf.Variable 'dense_1/kernel:0' shape=(20, 16) dtype=float32, numpy=\n",
       " array([[ 0.31555486,  0.11103451, -0.00966024,  0.1418405 , -0.22100939,\n",
       "         -0.2745854 ,  0.10764332, -0.0221368 , -0.188964  ,  0.16571039,\n",
       "          0.0438383 , -0.2725828 , -0.15375419, -0.16890861,  0.25942805,\n",
       "         -0.19129413],\n",
       "        [-0.43132958, -0.25972983, -0.25759375,  0.23569737,  0.12292262,\n",
       "         -0.4325861 ,  0.04833004, -0.29983026, -0.04550841, -0.00520234,\n",
       "         -0.00826652, -0.11806425, -0.11017333,  0.1803838 ,  0.3880735 ,\n",
       "         -0.06154127],\n",
       "        [ 0.37273446,  0.23471741,  0.13900733, -0.21733707, -0.06447674,\n",
       "         -0.39144236, -0.33725175, -0.13579394, -0.16050531, -0.16648412,\n",
       "         -0.03226825, -0.2697282 , -0.06621424,  0.46401688,  0.17377639,\n",
       "         -0.1065332 ],\n",
       "        [ 0.37006497, -0.03606426,  0.41921318,  0.28333443,  0.10476969,\n",
       "         -0.51488274,  0.2583199 ,  0.45863307, -0.08422973, -0.19508445,\n",
       "         -0.43621817, -0.20934963,  0.3111801 ,  0.21005777,  0.44772983,\n",
       "          0.24348907],\n",
       "        [ 0.36547855, -0.17524394, -0.26873967, -0.17825246,  0.36439696,\n",
       "         -0.4036937 ,  0.10101157,  0.282814  ,  0.2017063 , -0.419606  ,\n",
       "         -0.44623277,  0.24375726, -0.07929466,  0.12782708,  0.19977419,\n",
       "          0.02384803],\n",
       "        [-0.2107593 ,  0.19322386,  0.16874729, -0.11783862, -0.026947  ,\n",
       "         -0.20123406,  0.12728462, -0.34482318, -0.19365509,  0.06152164,\n",
       "          0.2908743 ,  0.25457343, -0.26262167, -0.22766188,  0.4108276 ,\n",
       "          0.11244411],\n",
       "        [-0.15858935,  0.02305859, -0.31722254, -0.29869765, -0.19174488,\n",
       "          0.29760534, -0.11827025, -0.1742489 ,  0.31363955, -0.00703576,\n",
       "          0.23415272, -0.27072182, -0.24888852,  0.16922216,  0.28163612,\n",
       "          0.04098378],\n",
       "        [ 0.20174874,  0.15856849,  0.17075457,  0.07640374,  0.118453  ,\n",
       "         -0.23490727, -0.02671759,  0.424074  ,  0.30388144, -0.15349495,\n",
       "          0.19771394, -0.00696067,  0.13046628,  0.13737313,  0.20719595,\n",
       "          0.02682036],\n",
       "        [ 0.3996074 ,  0.03949828, -0.22106017,  0.15578717,  0.29011175,\n",
       "          0.1246182 , -0.27456543,  0.32385886,  0.28601113, -0.28127527,\n",
       "         -0.01829958,  0.20820862, -0.00435393,  0.3886578 , -0.32139903,\n",
       "         -0.0917177 ],\n",
       "        [ 0.10311645, -0.2921252 , -0.30459443,  0.21947706,  0.09530281,\n",
       "         -0.3465196 ,  0.29184568, -0.09471408, -0.19397376, -0.30384517,\n",
       "         -0.1313492 ,  0.20212822,  0.13990514, -0.11537236,  0.14124559,\n",
       "          0.19115618],\n",
       "        [ 0.11521656,  0.3509396 ,  0.2512411 ,  0.23844825, -0.30259815,\n",
       "         -0.3587999 ,  0.27008918, -0.05935764, -0.33144024,  0.20776303,\n",
       "         -0.13505042,  0.38293368, -0.39987394, -0.36552224,  0.17502646,\n",
       "         -0.13518848],\n",
       "        [-0.0134281 ,  0.44521657,  0.44805458, -0.02921697, -0.04810716,\n",
       "         -0.24333224, -0.3835031 , -0.2633341 ,  0.16178279,  0.11816859,\n",
       "         -0.38422427, -0.3243597 , -0.2122212 ,  0.4114103 , -0.22833186,\n",
       "         -0.24568751],\n",
       "        [ 0.3099565 ,  0.19334681, -0.20396139,  0.27238125,  0.25827777,\n",
       "         -0.1311757 ,  0.22216755,  0.03184242,  0.06159598, -0.46594396,\n",
       "         -0.20570509,  0.08865873, -0.25521234,  0.32157382, -0.00583152,\n",
       "         -0.5436487 ],\n",
       "        [ 0.8672855 ,  0.7752948 ,  0.78868324,  0.5885979 , -0.0408798 ,\n",
       "         -0.4079899 , -0.253367  ,  0.7558302 , -0.04913607, -0.34426904,\n",
       "          0.01010583,  0.21355563, -0.13870598,  0.38943538,  0.3735417 ,\n",
       "         -0.8909736 ],\n",
       "        [ 0.08908638, -0.27449593, -0.04254958,  0.1278393 , -0.40386596,\n",
       "          0.265363  , -0.1917379 , -0.37841573,  0.0058107 , -0.07347655,\n",
       "         -0.04882025, -0.10547095, -0.1689964 ,  0.24199326, -0.196203  ,\n",
       "          0.29575026],\n",
       "        [ 0.0374748 ,  0.5584017 ,  0.34922332, -0.15783629, -0.16813803,\n",
       "         -0.28568202, -0.29505798,  0.40160072,  0.12958427, -0.0173511 ,\n",
       "         -0.14158121,  0.07609887, -0.48386115, -0.00555873,  0.33341557,\n",
       "          0.44928288],\n",
       "        [-0.21737723, -0.38994938, -0.30399913,  0.35818464, -0.05027071,\n",
       "          0.35678613,  0.25255916, -0.30511513,  0.04915208,  0.29094467,\n",
       "          0.15569112,  0.11047457,  0.33295685, -0.15721916, -0.04204099,\n",
       "          0.35270736],\n",
       "        [ 0.24423108,  0.41151592, -0.19672193, -0.00416888, -0.01528695,\n",
       "         -0.50603247, -0.09462626, -0.19814822,  0.19718426, -0.32102674,\n",
       "          0.18345489,  0.11742614, -0.40337104,  0.23992395,  0.4212913 ,\n",
       "         -0.49183974],\n",
       "        [-0.11099528, -0.03833825,  0.1091266 , -0.3339672 , -0.27364293,\n",
       "          0.33131582,  0.22291568,  0.22009113,  0.41108176, -0.1367863 ,\n",
       "         -0.21797895,  0.1104235 ,  0.3814462 , -0.06792516, -0.34125373,\n",
       "         -0.2030784 ],\n",
       "        [ 0.49309248,  0.5108384 ,  0.588905  ,  0.11142229,  0.03252421,\n",
       "         -0.21814644,  0.070107  ,  0.2557646 ,  0.17210376, -0.5264651 ,\n",
       "         -0.15275012, -0.3866235 ,  0.0437967 , -0.1262094 , -0.31109875,\n",
       "          0.03686085]], dtype=float32)>,\n",
       " <tf.Variable 'dense_1/bias:0' shape=(16,) dtype=float32, numpy=\n",
       " array([ 0.12548186,  0.06911644,  0.11910916,  0.06441955,  0.0198644 ,\n",
       "         0.04208878, -0.0243214 ,  0.1216431 , -0.03036099, -0.005849  ,\n",
       "         0.00131277, -0.04373719, -0.02022747,  0.05984885, -0.04171326,\n",
       "         0.05098893], dtype=float32)>,\n",
       " <tf.Variable 'dense_2/kernel:0' shape=(16, 1) dtype=float32, numpy=\n",
       " array([[-0.32703432],\n",
       "        [-0.4731524 ],\n",
       "        [-0.7165595 ],\n",
       "        [-0.29709896],\n",
       "        [-0.50808614],\n",
       "        [ 0.6022903 ],\n",
       "        [-0.12288953],\n",
       "        [-0.26200846],\n",
       "        [-0.42841586],\n",
       "        [ 0.32738316],\n",
       "        [ 0.32805198],\n",
       "        [-0.06133009],\n",
       "        [ 0.52752125],\n",
       "        [-0.47307643],\n",
       "        [-0.25435528],\n",
       "        [ 0.5454766 ]], dtype=float32)>,\n",
       " <tf.Variable 'dense_2/bias:0' shape=(1,) dtype=float32, numpy=array([-0.0012954], dtype=float32)>]"
      ]
     },
     "execution_count": 16,
     "metadata": {},
     "output_type": "execute_result"
    }
   ],
   "source": [
    "model.trainable_variables"
   ]
  },
  {
   "cell_type": "markdown",
   "metadata": {},
   "source": [
    "## References\n",
    "\n",
    "- https://www.tensorflow.org/tutorials/keras/text_classification_with_hub"
   ]
  }
 ],
 "metadata": {
  "kernelspec": {
   "display_name": "Python 3",
   "language": "python",
   "name": "python3"
  },
  "language_info": {
   "codemirror_mode": {
    "name": "ipython",
    "version": 3
   },
   "file_extension": ".py",
   "mimetype": "text/x-python",
   "name": "python",
   "nbconvert_exporter": "python",
   "pygments_lexer": "ipython3",
   "version": "3.6.9"
  },
  "toc": {
   "base_numbering": 1,
   "nav_menu": {},
   "number_sections": true,
   "sideBar": true,
   "skip_h1_title": false,
   "title_cell": "Table of Contents",
   "title_sidebar": "Contents",
   "toc_cell": false,
   "toc_position": {},
   "toc_section_display": true,
   "toc_window_display": false
  },
  "varInspector": {
   "cols": {
    "lenName": 16,
    "lenType": 16,
    "lenVar": 40
   },
   "kernels_config": {
    "python": {
     "delete_cmd_postfix": "",
     "delete_cmd_prefix": "del ",
     "library": "var_list.py",
     "varRefreshCmd": "print(var_dic_list())"
    },
    "r": {
     "delete_cmd_postfix": ") ",
     "delete_cmd_prefix": "rm(",
     "library": "var_list.r",
     "varRefreshCmd": "cat(var_dic_list()) "
    }
   },
   "types_to_exclude": [
    "module",
    "function",
    "builtin_function_or_method",
    "instance",
    "_Feature"
   ],
   "window_display": false
  }
 },
 "nbformat": 4,
 "nbformat_minor": 4
}
